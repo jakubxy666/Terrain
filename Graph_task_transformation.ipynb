{
 "cells": [
  {
   "cell_type": "code",
   "execution_count": 2,
   "metadata": {},
   "outputs": [],
   "source": [
    "# imports\n",
    "import sys\n",
    "import math\n",
    "import networkx as nx\n",
    "import matplotlib.pyplot as plt"
   ]
  },
  {
   "cell_type": "markdown",
   "metadata": {},
   "source": [
    "### Reprezentacja"
   ]
  },
  {
   "cell_type": "code",
   "execution_count": 3,
   "metadata": {},
   "outputs": [],
   "source": [
    "G = nx.Graph()\n",
    "x1 = 1\n",
    "y1 = 3\n",
    "z1 = 0 # all z position is 0 (plane graph)\n",
    "G.add_node('v1', pos=(x1, y1), type='v', x=x1, y=y1, z=z1)"
   ]
  },
  {
   "cell_type": "markdown",
   "metadata": {},
   "source": [
    "**Type:**\n",
    "- v - node\n",
    "- e - edge (2 nodes)\n",
    "- i - edge (3 nodes)\n",
    "- h - hanging node"
   ]
  },
  {
   "cell_type": "markdown",
   "metadata": {},
   "source": [
    "**Position:**\n",
    "- v - (x, y, z)\n",
    "- e - {v1, v2}\n",
    "\\begin{equation*} xe = \\frac{(x1+x2)}{2}; ye = \\frac{(y1+y2)}{2} \\end{equation*} \n",
    "- i - {v1, v2, v3}\n",
    "\\begin{equation*} xi = \\frac{(x1+x2+x3)}{3}; yi = \\frac{(y1+y2+y3)}{3} \\end{equation*}"
   ]
  },
  {
   "cell_type": "markdown",
   "metadata": {},
   "source": [
    "**Drawing:**\n",
    "Check P3"
   ]
  },
  {
   "cell_type": "code",
   "execution_count": 7,
   "metadata": {},
   "outputs": [],
   "source": [
    "from itertools import count\n",
    "def draw_graph_position(G):\n",
    "    types = nx.get_node_attributes(G, 'type')\n",
    "    xs = nx.get_node_attributes(G, 'x')\n",
    "    ys = nx.get_node_attributes(G, 'y')\n",
    "    zs = nx.get_node_attributes(G, 'z')\n",
    "    bs = nx.get_node_attributes(G, 'b')\n",
    "    ls = nx.get_node_attributes(G, 'l')\n",
    "    rs = nx.get_node_attributes(G, 'r')\n",
    "    \n",
    "    pos = nx.get_node_attributes(G,'pos')\n",
    "    #colors = \"black\"\n",
    "    mapping = col = {'v': 'black', 'e': 'blue', 'h': 'red', 'i': 'green'}\n",
    "    nodes = G.nodes()\n",
    "    colors = [mapping[G.nodes[n]['type']] for n in nodes]\n",
    "    nx.draw(G, pos, node_color=colors)"
   ]
  },
  {
   "cell_type": "code",
   "execution_count": 5,
   "metadata": {},
   "outputs": [],
   "source": [
    "G = nx.Graph()\n",
    "\n",
    "x1=0\n",
    "x2=1\n",
    "y1=0\n",
    "y2=1\n",
    "z1=0\n",
    "z2=1\n",
    "\n",
    "#           id   ,typ,      nazwa,     x,    y,    z\n",
    "G.add_node(\"v1\", type='v', name='v1', x=x1, y=y1, z=z1)\n",
    "G.add_node(\"v2\", type='v', name='v2', x=x2, y=x2, z=z2)\n",
    "G.add_edge(\"v2\", \"v1\")\n",
    "\n",
    "v1 = G.nodes[\"v1\"]\n",
    "v2 = G.nodes[\"v2\"]\n",
    "attrs = {(v1['name'], v2['name']): {'b': True, 'l': 20}}\n",
    "nx.set_edge_attributes(G, attrs)"
   ]
  },
  {
   "cell_type": "code",
   "execution_count": 6,
   "metadata": {},
   "outputs": [
    {
     "data": {
      "text/plain": [
       "True"
      ]
     },
     "execution_count": 6,
     "metadata": {},
     "output_type": "execute_result"
    }
   ],
   "source": [
    "G[v1['name']][v2['name']]['b']"
   ]
  },
  {
   "cell_type": "code",
   "execution_count": 22,
   "metadata": {},
   "outputs": [],
   "source": [
    "def draw_graph(G):\n",
    "    types = nx.get_node_attributes(G, 'type')\n",
    "    xs = nx.get_node_attributes(G, 'x')\n",
    "    ys = nx.get_node_attributes(G, 'y')\n",
    "    zs = nx.get_node_attributes(G, 'z')\n",
    "    bs = nx.get_node_attributes(G, 'b')\n",
    "    ls = nx.get_node_attributes(G, 'l')\n",
    "    rs = nx.get_node_attributes(G, 'r')\n",
    "    \n",
    "    nx.draw(G)"
   ]
  },
  {
   "cell_type": "code",
   "execution_count": 3,
   "metadata": {},
   "outputs": [],
   "source": [
    "def create_graph_P1(x1, x2, x3, x4, y1, y2, y3, y4, z1, z2, z3, z4, r1, b1, b2, b3, b4, l1, l2, l3, l4):\n",
    "    G = nx.Graph()\n",
    "    \n",
    "    G.add_node(\"v1\", type='v', x=x1, y=y1, z=z1)\n",
    "    G.add_node(\"v2\", type='v', x=x2, y=y2, z=z2)\n",
    "    G.add_node(\"v3\", type='v', x=x3, y=y3, z=z3)\n",
    "    G.add_node(\"e1\", type='e', b=b1, l=l1)\n",
    "    G.add_node(\"e2\", type='e', b=b2, l=l2)\n",
    "    G.add_node(\"e3\", type='e', b=b3, l=l3)\n",
    "    G.add_node(\"i1\", type='i', r=r1)\n",
    "\n",
    "    G.add_edge(\"i1\", \"v1\")\n",
    "    G.add_edge(\"i1\", \"v2\")\n",
    "    G.add_edge(\"i1\", \"v3\")\n",
    "    \n",
    "    G.add_edge(\"e1\", \"v1\")\n",
    "    G.add_edge(\"e1\", \"v2\")\n",
    "    \n",
    "    G.add_edge(\"e2\", \"v2\")\n",
    "    G.add_edge(\"e2\", \"v3\")\n",
    "    \n",
    "    G.add_edge(\"e3\", \"v1\")\n",
    "    G.add_edge(\"e3\", \"v3\")\n",
    "    \n",
    "    return G"
   ]
  },
  {
   "cell_type": "code",
   "execution_count": 37,
   "metadata": {
    "pycharm": {
     "is_executing": false,
     "name": "#%%\n"
    }
   },
   "outputs": [],
   "source": [
    "def check_type_P1(G: nx.Graph) -> bool:\n",
    "    r1 = G.nodes[\"i1\"]['r']\n",
    "    b1 = G.nodes[\"e1\"]['b']\n",
    "    l1 = G.nodes[\"e1\"]['l']\n",
    "    l2 = G.nodes[\"e2\"]['l']\n",
    "    l3 = G.nodes[\"e3\"]['l']\n",
    "    \n",
    "    return r1 and b1 and l1 >= l2 and l1 >= l3 "
   ]
  },
  {
   "cell_type": "code",
   "execution_count": 38,
   "metadata": {
    "pycharm": {
     "is_executing": false
    }
   },
   "outputs": [],
   "source": [
    "from typing import Optional\n",
    "def transform_P1(G: nx.Graph) -> Optional[nx.Graph]:\n",
    "    if not check_type_P1(G):\n",
    "        return None\n",
    "    \n",
    "    x3 = G.nodes[\"v3\"]['x']\n",
    "    y3 = G.nodes[\"v3\"]['y']\n",
    "    z3 = G.nodes[\"v3\"]['z']\n",
    "    \n",
    "    l4 = G.nodes[\"e1\"]['l'] / 2\n",
    "    b4 = G.nodes[\"e1\"]['b']\n",
    "    l5 = G.nodes[\"e1\"]['l'] / 2\n",
    "    b5 = G.nodes[\"e1\"]['b']\n",
    "    x4 = (G.nodes[\"v1\"]['x'] + G.nodes[\"v2\"]['x']) / 2\n",
    "    y4 = (G.nodes[\"v1\"]['y'] + G.nodes[\"v2\"]['y']) / 2\n",
    "    z4 = (G.nodes[\"v1\"]['z'] + G.nodes[\"v2\"]['z']) / 2\n",
    "    l6 = math.sqrt(math.pow(x3 - x4, 2) + math.pow(y3 - y4, 2) + math.pow(z3 - z4, 2))\n",
    "    b6 = False\n",
    "    r2 = False\n",
    "    r3 = False\n",
    "    \n",
    "    G.remove_edge(\"v1\", \"e1\")\n",
    "    G.remove_edge(\"v2\", \"e1\")\n",
    "    G.remove_node(\"e1\")\n",
    "    G.remove_edge(\"i1\", 'v1')\n",
    "    G.remove_edge(\"i1\", 'v2')\n",
    "    G.remove_edge(\"i1\", 'v3')\n",
    "    G.remove_node(\"i1\")\n",
    "\n",
    "    G.add_node(\"i2\", type='i', r=r2)\n",
    "    G.add_node(\"i3\", type='i', r=r3)\n",
    "    \n",
    "    G.add_node(\"e4\", type='e', b=b4, l=l4)\n",
    "    G.add_node(\"e5\", type='e', b=b5, l=l5)\n",
    "    G.add_node(\"e6\", type='e', b=b6, l=l6)\n",
    "\n",
    "    G.add_node(\"v4\", type='v', x=x4, y=y4, z=z4)\n",
    "    \n",
    "    G.add_edge(\"v3\", \"e6\")\n",
    "    G.add_edge(\"v4\", \"e6\")\n",
    "    \n",
    "    G.add_edge(\"v1\", \"e4\")\n",
    "    G.add_edge(\"v4\", \"e4\")\n",
    "    \n",
    "    G.add_edge(\"v1\", \"i2\")\n",
    "    G.add_edge(\"v3\", \"i2\")\n",
    "    G.add_edge(\"v4\", \"i2\")\n",
    "    \n",
    "    G.add_edge(\"v2\", \"e5\")\n",
    "    G.add_edge(\"v4\", \"e5\")\n",
    "    \n",
    "    G.add_edge(\"v2\", \"i3\")\n",
    "    G.add_edge(\"v3\", \"i3\")\n",
    "    G.add_edge(\"v4\", \"i3\")\n",
    "    \n",
    "    return G"
   ]
  },
  {
   "cell_type": "code",
   "execution_count": 39,
   "metadata": {
    "pycharm": {
     "is_executing": false,
     "name": "#%%\n"
    }
   },
   "outputs": [],
   "source": [
    "g = create_graph_P1(x1=1, x2=3, x3=1, x4=2, y1=2, y2=6, y3=5, y4=4, z1=3, z2=9, z3=5, z4=6, r1=True, b1=True, b2=False, \n",
    "             b3=False, b4=False, l1=4, l2=4, l3=4, l4=5)\n",
    "draw_graph(transform_P1(g))"
   ]
  },
  {
   "cell_type": "code",
   "execution_count": 40,
   "metadata": {
    "pycharm": {
     "is_executing": false
    }
   },
   "outputs": [],
   "source": [
    "test_cases = [\n",
    "    # x1,x2,x3,x4,y1,y2,y3,y4,z1,z2,z3,z4,   r1,   b1,   b2,   b3,   b4,l1,l2,l3,l4\n",
    "    ([0, 1, 2 , 3, 0, 1, 2, 3, 0, 1, 2, 3, True, True, True, True, True, 1, 1, 1, 1], True),\n",
    "    ([0, 1, 2 , 3, 0, 1, 2, 3, 0, 1, 2, 3, True, True, True, True, True, 5, 4, 2, 1], True),\n",
    "    ([0, 1, 2 , 3, 0, 1, 2, 3, 0, 1, 2, 3, False, True, True, True, True, 5, 4, 2, 1], False),\n",
    "    ([0, 1, 2 , 3, 0, 1, 2, 3, 0, 1, 2, 3, True, False, True, True, True, 5, 4, 2, 1], False),\n",
    "    ([0, 1, 2 , 3, 0, 1, 2, 3, 0, 1, 2, 3, True, True, True, True, True, 5, 7, 2, 1], False),\n",
    "    ([0, 1, 2 , 3, 0, 1, 2, 3, 0, 1, 2, 3, True, True, True, True, True, 5, 4, 6, 1], False),\n",
    "]\n",
    "\n",
    "def test_check_type_P1():\n",
    "    for case, result in test_cases:\n",
    "        graph = create_graph_P1(*case)\n",
    "        assert check_type_P1(graph) == result\n",
    "        \n",
    "test_check_type_P1()"
   ]
  },
  {
   "cell_type": "code",
   "execution_count": 51,
   "metadata": {
    "pycharm": {
     "is_executing": false
    }
   },
   "outputs": [],
   "source": [
    "test_cases = [\n",
    "    [0, 1, 2 , 3, 0, 1, 2, 3, 0, 1, 2, 3, True, True, True, True, True, 1, 1, 1, 1],\n",
    "    [0, 1, 2 , 3, 0, 1, 2, 3, 0, 1, 2, 3, True, True, True, True, True, 5, 4, 2, 1],\n",
    "]\n",
    "\n",
    "edges_removed = [\n",
    "    ('i1', 'v1'), ('i1', 'v2'), ('i1', 'v3'), ('e1', 'v1'), ('e1', 'v2')\n",
    "]\n",
    "\n",
    "\n",
    "def test_transform_P1():\n",
    "    for case in test_cases:\n",
    "        graph = create_graph_P1(*case)\n",
    "        \n",
    "        l1 = graph.nodes['e1']['l']\n",
    "        b1 = graph.nodes['e1']['b']\n",
    "        \n",
    "        transform_P1(graph)\n",
    "        \n",
    "        assert graph.nodes['e4']['l'] == l1/2\n",
    "        assert graph.nodes['e4']['b'] == b1\n",
    "        assert graph.nodes['e5']['l'] == l1/2\n",
    "        assert graph.nodes['e5']['b'] == b1\n",
    "        assert graph.nodes['v4']['x'] == (graph.nodes['v1']['x'] + graph.nodes['v2']['x']) / 2\n",
    "        assert graph.nodes['v4']['y'] == (graph.nodes['v1']['y'] + graph.nodes['v2']['y']) / 2\n",
    "        assert graph.nodes['v4']['z'] == (graph.nodes['v1']['z'] + graph.nodes['v2']['z']) / 2\n",
    "        assert graph.nodes['e6']['l'] == math.sqrt(math.pow(graph.nodes['v3']['x'] - graph.nodes['v4']['x'], 2) + math.pow(graph.nodes['v3']['y'] - graph.nodes['v4']['y'], 2) + math.pow(graph.nodes['v3']['z'] - graph.nodes['v4']['z'], 2))\n",
    "        assert not graph.nodes['e6']['b']\n",
    "        assert not graph.nodes['i2']['r']\n",
    "        assert not graph.nodes['i3']['r']\n",
    "        \n",
    "        assert 'i1' not in graph.nodes\n",
    "        assert 'e1' not in graph.nodes\n",
    "        \n",
    "        for edge in edges_removed:\n",
    "            assert edge not in graph.edges\n",
    "            assert edge[::-1] not in graph.edges\n",
    "\n",
    "test_transform_P1()"
   ]
  },
  {
   "cell_type": "code",
   "execution_count": 3,
   "metadata": {
    "pycharm": {
     "is_executing": false
    }
   },
   "outputs": [],
   "source": [
    "def create_graph_P2(x1, x2, x3, x4, y1, y2, y3, y4, z1, z2, z3, z4, r1, b1, b2, b3, b4, l1, l2, l3, l4):\n",
    "    G= nx.Graph()\n",
    "    G.add_node('v1', type='v', x=x1, y=y1, z=z1)\n",
    "    G.add_node('v2', type='v', x=x2, y=y2, z=z2)\n",
    "    G.add_node('v3', type='v', x=x3, y=y3, z=z3)\n",
    "    G.add_node('e1', type='e', b=b1, l=l1)\n",
    "    G.add_node('e2', type='e', b=b2, l=l2)\n",
    "    G.add_node('e3', type='e', b=b3, l=l3)\n",
    "    G.add_node('i1', type='i', r=r1)\n",
    "    \n",
    "    G.add_edge('i1', 'v1')\n",
    "    G.add_edge('i1', 'v2')\n",
    "    G.add_edge('i1', 'v3')\n",
    "    \n",
    "    G.add_edge('e1', 'v1')\n",
    "    G.add_edge('e1', 'v2')\n",
    "    \n",
    "    G.add_edge('e2', 'v2')\n",
    "    G.add_edge('e2', 'v3')\n",
    "    \n",
    "    G.add_edge('e3', 'v3')\n",
    "    G.add_edge('e3', 'v1')\n",
    "    return G"
   ]
  },
  {
   "cell_type": "code",
   "execution_count": 4,
   "metadata": {
    "pycharm": {
     "is_executing": false
    }
   },
   "outputs": [],
   "source": [
    "def check_type_P2(G):\n",
    "    r1 = G.nodes['i1']['r']\n",
    "    b1 = G.nodes['e1']['b']\n",
    "    b2 = G.nodes['e2']['b']\n",
    "    b3 = G.nodes['e3']['b']\n",
    "    l1 = G.nodes['e1']['l']\n",
    "    l2 = G.nodes['e2']['l']\n",
    "    l3 = G.nodes['e3']['l']\n",
    "    \n",
    "    return (r1 and not(b1) and (l1>=l2) and (l1>=l3) and not((b2 and (l2==l1)) or (b3 and (l3==l1))))"
   ]
  },
  {
   "cell_type": "code",
   "execution_count": 5,
   "metadata": {
    "pycharm": {
     "is_executing": false
    }
   },
   "outputs": [],
   "source": [
    "def transform_P2(G):\n",
    "    if not check_type_P2(G):\n",
    "        return None\n",
    "    \n",
    "    l1 = G.nodes['e1']['l']\n",
    "    b1 = G.nodes['e1']['b']\n",
    "    \n",
    "    x1 = G.nodes['v1']['x']\n",
    "    y1 = G.nodes['v1']['y']\n",
    "    z1 = G.nodes['v1']['z']\n",
    "    \n",
    "    x2 = G.nodes['v2']['x']\n",
    "    y2 = G.nodes['v2']['y']\n",
    "    z2 = G.nodes['v2']['z']\n",
    "    \n",
    "    \n",
    "    x3 = G.nodes['v3']['x']\n",
    "    y3 = G.nodes['v3']['y']\n",
    "    z3 = G.nodes['v3']['z']\n",
    "    \n",
    "    G.remove_edge('i1', 'v1')\n",
    "    G.remove_edge('i1', 'v2')\n",
    "    G.remove_edge('i1', 'v3')\n",
    "    G.remove_node('i1')\n",
    "    G.remove_edge('e1', 'v1')\n",
    "    G.remove_edge('e1', 'v2')\n",
    "    G.remove_node('e1')\n",
    "    \n",
    "    \n",
    "    l4 = l1/2\n",
    "    b4 = b1\n",
    "    l5 = l1/2\n",
    "    b5 = b1\n",
    "    x4 = (x1+x2)/2\n",
    "    y4 = (y1+y2)/2\n",
    "    z4 = (z1+z2)/2\n",
    "    l6 = math.sqrt(math.pow(x3-x4, 2) + math.pow(y3-y4, 2) + math.pow(z3-z4, 2))\n",
    "    b6 = False\n",
    "    r2 = False\n",
    "    r3 = False\n",
    "    \n",
    "    G.add_node('v4', x=x4, y=y4, z=z4)\n",
    "    G.add_node('e4', b=b4, l=l4)\n",
    "    G.add_node('e5', b=b5, l=l5)\n",
    "    G.add_node('e6', b=b6, l=l6)\n",
    "    G.add_node('i2', r=r2)\n",
    "    G.add_node('i3', r=r3)\n",
    "    \n",
    "    G.add_edge('e4', 'v1')\n",
    "    G.add_edge('e4', 'v4')\n",
    "    \n",
    "    G.add_edge('e5', 'v2')\n",
    "    G.add_edge('e5', 'v4')\n",
    "    \n",
    "    G.add_edge('e6', 'v3')\n",
    "    G.add_edge('e6', 'v4')\n",
    "    \n",
    "    G.add_edge('i2', 'v1')\n",
    "    G.add_edge('i2', 'v3')\n",
    "    G.add_edge('i2', 'v4')\n",
    "    \n",
    "    G.add_edge('i3', 'v2')\n",
    "    G.add_edge('i3', 'v3')\n",
    "    G.add_edge('i3', 'v4')\n",
    "    \n",
    "    return G"
   ]
  },
  {
   "cell_type": "code",
   "execution_count": 6,
   "metadata": {
    "pycharm": {
     "is_executing": false
    }
   },
   "outputs": [
    {
     "name": "stderr",
     "output_type": "stream",
     "text": [
      "/home/kj/.local/lib/python3.5/site-packages/networkx/drawing/nx_pylab.py:611: MatplotlibDeprecationWarning: isinstance(..., numbers.Number)\n",
      "  if cb.is_numlike(alpha):\n"
     ]
    },
    {
     "data": {
      "image/png": "[encoded data removed]",
      "text/plain": [
       "<Figure size 432x288 with 1 Axes>"
      ]
     },
     "metadata": {},
     "output_type": "display_data"
    }
   ],
   "source": [
    "G = create_graph_P2(x1=1, x2=3, x3=1, x4=2, y1=2, y2=6, y3=5, y4=4, z1=3, z2=9, z3=5, z4=6, r1=True, b1=False, b2=False, b3=False, b4=False, l1=4, l2=4, l3=4, l4=5)\n",
    "draw_graph(transform_P2(G))"
   ]
  },
  {
   "cell_type": "code",
   "execution_count": 30,
   "metadata": {
    "pycharm": {
     "is_executing": false,
     "name": "#%%\n"
    }
   },
   "outputs": [],
   "source": [
    "TEST_CASES = [\n",
    "    # x1,x2,x3,x4,y1,y2,y3,y4,z1,z2,z3,z4,r1,    b1,    b2,    b3,    b4,    l1,l2,l3,l4\n",
    "    ((1, 3, 1, 2, 2, 6, 5, 4, 3, 9, 5, 7, True,  False, False, False, False, 4, 4, 4, 5), True),\n",
    "    ((9, 3, 8, 2, 2, 9, 8, 4, 3, 9, 4, 6, True,  False, False, False, False, 9, 4, 4, 5), True),\n",
    "    ((1, 5, 1, 8, 5, 6, 5, 4, 3, 5, 5, 6, True,  False, False, False, False, 9, 9, 4, 5), True),\n",
    "    ((1, 5, 1, 8, 5, 6, 5, 4, 3, 5, 9, 6, False, False, False, False, False, 9, 9, 4, 5), False),\n",
    "    ((1, 5, 1, 8, 5, 6, 5, 4, 3, 5, 5, 4, False, False, False, False, False, 9, 9, 4, 5), False),\n",
    "    ((1, 1, 0, 1, 2, 6, 3, 4, 3, 8, 7, 6, False, True,  False, False, False, 9, 9, 4, 5), False),\n",
    "    ((1, 6, 1, 8, 5, 6, 5, 0, 3, 5, 5, 9, True,  True,  True,  False, False, 1, 9, 4, 5), False),\n",
    "]\n",
    "\n",
    "\n",
    "def test_check_type_p2():\n",
    "    for test_case, expected_result in TEST_CASES:\n",
    "        g = create_graph_P2(*test_case)\n",
    "        assert check_type_P2(g) == expected_result, f\"Error in: {test_case}\"\n",
    "    return \"[P2-check_type_P2] All checks passed ヾ(⌐■_■)ノ♪\"\n",
    "    \n",
    "test_check_type_p2()"
   ]
  },
  {
   "cell_type": "code",
   "execution_count": 31,
   "metadata": {
    "pycharm": {
     "is_executing": false,
     "name": "#%%\n"
    }
   },
   "outputs": [],
   "source": [
    "TEST_CASES = [\n",
    "    #x1,x2,x3,x4,y1,y2,y3,y4,z1,z2,z3,z4,r1,    b1,    b2,    b3,    b4,    l1,l2,l3,l4\n",
    "    (1, 3, 1, 2, 2, 6, 5, 4, 3, 9, 5, 7, True,  False, False, False, False, 4, 4, 4, 5),\n",
    "    (9, 3, 8, 2, 2, 9, 8, 4, 3, 9, 4, 6, True,  False, False, False, False, 9, 4, 4, 5), \n",
    "    (1, 5, 1, 8, 5, 6, 5, 4, 3, 5, 5, 6, True,  False, False, False, False, 9, 9, 4, 5),\n",
    "]\n",
    "\n",
    "def test_transform_p2():\n",
    "    for test_case in TEST_CASES:\n",
    "        l1 = test_case[17]\n",
    "        b1 = test_case[13]\n",
    "        g = transform_P2(create_graph_P2(*test_case))\n",
    "        \n",
    "        assert g.nodes[\"e4\"]['l'] == l1 / 2\n",
    "        assert g.nodes[\"e4\"]['b'] == b1\n",
    "        assert g.nodes[\"e5\"]['l'] == l1 / 2\n",
    "        assert g.nodes[\"e5\"]['l'] == l1 / 2\n",
    "        assert g.nodes[\"v4\"]['x'] == (g.nodes[\"v1\"]['x'] + g.nodes[\"v2\"]['x']) / 2\n",
    "        assert g.nodes[\"v4\"]['y'] == (g.nodes[\"v1\"]['y'] + g.nodes[\"v2\"]['y']) / 2\n",
    "        assert g.nodes[\"v4\"]['z'] == (g.nodes[\"v1\"]['z'] + g.nodes[\"v2\"]['z']) / 2\n",
    "        assert g.nodes[\"e6\"]['l'] == math.sqrt(math.pow(g.nodes[\"v3\"]['x'] - g.nodes[\"v4\"]['x'], 2) + math.pow(g.nodes[\"v3\"]['y'] - g.nodes[\"v4\"]['y'], 2) + math.pow(g.nodes[\"v3\"]['z'] - g.nodes[\"v4\"]['z'], 2))\n",
    "        assert not g.nodes[\"e6\"]['b']\n",
    "        assert not g.nodes[\"i2\"]['r']\n",
    "        assert not g.nodes[\"i3\"]['r']\n",
    "    return \"[P2-transform_P2] All checks passed ヾ(⌐■_■)ノ♪\"\n",
    "    \n",
    "test_transform_p2()"
   ]
  },
  {
   "cell_type": "code",
   "execution_count": 8,
   "metadata": {
    "pycharm": {
     "is_executing": false
    }
   },
   "outputs": [],
   "source": [
    "def create_graph_P3(x1, x2, x3, x4, y1, y2, y3, y4, z1, z2, z3, z4, r1, b1, b2, b3, b4, l1, l2, l3, l4):\n",
    "    G = nx.Graph()\n",
    "    G.add_node('v1', pos=(x1, y1), type='v', x=x1, y=y1, z=z1)\n",
    "    G.add_node('v2', pos=(x2, y2), type='v', x=x2, y=y2, z=z2)\n",
    "    G.add_node('v3', pos=(x3, y3), type='v', x=x3, y=y3, z=z3)\n",
    "    G.add_node('v4', pos=(x4, y4), type='h', x=x4, y=y4, z=z4)\n",
    "    \n",
    "    xe1 = (x1 + x4)/2\n",
    "    ye1 = (y1 + y4)/2\n",
    "    xe2 = (x2 + x4)/2\n",
    "    ye2 = (y2 + y4)/2\n",
    "    xe3 = (x2 + x3)/2\n",
    "    ye3 = (y2 + y3)/2\n",
    "    xe4 = (x1 + x3)/2\n",
    "    ye4 = (y1 + y3)/2\n",
    "    \n",
    "    G.add_node('e1', pos=(xe1, ye1), type='e', b=b1, l=l1)\n",
    "    G.add_node('e2', pos=(xe2, ye2), type='e', b=b2, l=l2)\n",
    "    G.add_node('e3', pos=(xe3, ye3), type='e', b=b3, l=l3)\n",
    "    G.add_node('e4', pos=(xe4, ye4), type='e', b=b4, l=l4)\n",
    "    \n",
    "    xi1 = (x1 + x2 + x3)/3\n",
    "    yi1 = (y1 + y2 + y3)/3\n",
    "    \n",
    "    G.add_node('i1', pos=(xi1, yi1), type='i', r=r1)\n",
    "\n",
    "    G.add_edge('e1', 'v1')\n",
    "    G.add_edge('e1', 'v4')\n",
    "    G.add_edge('e2', 'v2')\n",
    "    G.add_edge('e2', 'v4')\n",
    "    G.add_edge('e3', 'v2')\n",
    "    G.add_edge('e3', 'v3')\n",
    "    G.add_edge('e4', 'v1')\n",
    "    G.add_edge('e4', 'v3')\n",
    "    G.add_edge('i1', 'v1')\n",
    "    G.add_edge('i1', 'v2')\n",
    "    G.add_edge('i1', 'v3')\n",
    "    \n",
    "    return G"
   ]
  },
  {
   "cell_type": "code",
   "execution_count": 9,
   "metadata": {},
   "outputs": [],
   "source": [
    "def check_type_P3(G):\n",
    "    l1 = G.nodes['e1']['l']\n",
    "    l2 = G.nodes['e2']['l']\n",
    "    l3 = G.nodes['e3']['l']\n",
    "    l4 = G.nodes['e4']['l']\n",
    "    \n",
    "    return ((l1 + l2 >= l3) and (l1 + l2 >= l4))"
   ]
  },
  {
   "cell_type": "code",
   "execution_count": 10,
   "metadata": {},
   "outputs": [],
   "source": [
    "def transform_P3(G):\n",
    "    r2 = False\n",
    "    r3 = False\n",
    "    x1 = G.nodes['v1']['x']\n",
    "    y1 = G.nodes['v1']['y']\n",
    "    z1 = G.nodes['v1']['z']\n",
    "    x3 = G.nodes['v2']['x']\n",
    "    y3 = G.nodes['v2']['y']\n",
    "    z3 = G.nodes['v2']['z']\n",
    "    x4 = G.nodes['v3']['x']\n",
    "    y4 = G.nodes['v3']['y']\n",
    "    z4 = G.nodes['v3']['z']\n",
    "    x2 = G.nodes['v4']['x']\n",
    "    y2 = G.nodes['v4']['y']\n",
    "    z2 = G.nodes['v4']['z']\n",
    "    l5 = math.sqrt(math.pow(x2 - x4, 2) + math.pow(y2 - y4, 2) + math.pow(z2 - z4, 2))\n",
    "    b5 = False\n",
    "    \n",
    "    G.remove_edge('i1', 'v1')\n",
    "    G.remove_edge('i1', 'v2')\n",
    "    G.remove_edge('i1', 'v3')\n",
    "    G.remove_node('i1')\n",
    "    \n",
    "    xi2 = (x1 + x2 + x4)/3\n",
    "    yi2 = (y1 + y2 + y4)/3\n",
    "    xi3 = (x2 + x3 + x4)/3\n",
    "    yi3 = (y2 + y3 + y4)/3\n",
    "    xe5 = (x2 + x4)/2\n",
    "    ye5 = (y2 + y4)/2\n",
    "    \n",
    "    G.add_node('i2', type='i', r=r2)\n",
    "    G.add_node('i3', type='i', r=r3)\n",
    "    G.add_node('e5', type='e', b=b5, l=l5)\n",
    "    \n",
    "    G.nodes[\"i2\"]['pos'] = (xi2, yi2)\n",
    "    G.nodes[\"i3\"]['pos'] = (xi3, yi3)\n",
    "    G.nodes[\"e5\"]['pos'] = (xe5, ye5)\n",
    "    \n",
    "    G.nodes[\"v4\"]['type'] = 'v'\n",
    "    \n",
    "    G.add_edge('v3', 'e5')\n",
    "    G.add_edge('v4', 'e5')\n",
    "    G.add_edge('v1', 'i2')\n",
    "    G.add_edge('v3', 'i2')\n",
    "    G.add_edge('v4', 'i2')\n",
    "    G.add_edge('v2', 'i3')\n",
    "    G.add_edge('v3', 'i3')\n",
    "    G.add_edge('v4', 'i3')\n",
    "    \n",
    "    return G"
   ]
  },
  {
   "cell_type": "code",
   "execution_count": 13,
   "metadata": {},
   "outputs": [
    {
     "data": {
      "image/png": "[encoded data removed]",
      "text/plain": [
       "<Figure size 432x288 with 1 Axes>"
      ]
     },
     "metadata": {},
     "output_type": "display_data"
    }
   ],
   "source": [
    "G = create_graph_P3(x1=1, x2=3, x3=1, x4=2, y1=2, y2=6, y3=5, y4=4, z1=3, z2=9, z3=5, z4=6, r1=True, b1=False, b2=False, \n",
    "             b3=False, b4=False, l1=4, l2=4, l3=4, l4=5)\n",
    "draw_graph_position(G)"
   ]
  },
  {
   "cell_type": "code",
   "execution_count": 14,
   "metadata": {},
   "outputs": [
    {
     "data": {
      "image/png": "[encoded data removed]",
      "text/plain": [
       "<Figure size 432x288 with 1 Axes>"
      ]
     },
     "metadata": {},
     "output_type": "display_data"
    }
   ],
   "source": [
    "draw_graph_position(transform_P3(G))"
   ]
  },
  {
   "cell_type": "code",
   "execution_count": 10,
   "metadata": {},
   "outputs": [],
   "source": [
    "def create_graph_P4(x1, x2, x3, x4, y1, y2, y3, y4, z1, z2, z3, z4, r1, b1, b2, b3, b4, l1, l2, l3, l4):\n",
    "    G = nx.Graph()\n",
    "    G.add_node('v1', type='v', x=x1, y=y1, z=z1)\n",
    "    G.add_node('v4', type='v', x=x2, y=y2, z=z2)\n",
    "    G.add_node('v2', type='v', x=x3, y=y3, z=z3)\n",
    "    G.add_node('v3', type='v', x=x4, y=y4, z=z4)\n",
    "    G.add_node('e1', type='e', b=b1, l=l1)\n",
    "    G.add_node('e2', type='e', b=b2, l=l2)\n",
    "    G.add_node('e3', type='e', b=b3, l=l3)\n",
    "    G.add_node('e4', type='e', b=b4, l=l4)\n",
    "    G.add_node('i1', type='i', r=r1)\n",
    "\n",
    "    G.add_edge('e1', 'v1')\n",
    "    G.add_edge('e1', 'v4')\n",
    "    G.add_edge('e2', 'v2')\n",
    "    G.add_edge('e2', 'v4')\n",
    "    G.add_edge('e3', 'v2')\n",
    "    G.add_edge('e3', 'v3')\n",
    "    G.add_edge('e4', 'v1')\n",
    "    G.add_edge('e4', 'v3')\n",
    "    G.add_edge('i1', 'v1')\n",
    "    G.add_edge('i1', 'v2')\n",
    "    G.add_edge('i1', 'v3')\n",
    "    return G"
   ]
  },
  {
   "cell_type": "code",
   "execution_count": 11,
   "metadata": {},
   "outputs": [],
   "source": [
    "g = create_graph_P4(x1=1, x2=3, x3=1, x4=2, y1=2, y2=6, y3=5, y4=4, z1=3, z2=9, z3=5, z4=6, r1=True, b1=False, b2=False, \n",
    "             b3=False, b4=False, l1=4, l2=4, l3=4, l4=5)\n",
    "draw_graph(g)"
   ]
  },
  {
   "cell_type": "code",
   "execution_count": null,
   "metadata": {},
   "outputs": [],
   "source": [
    "def check_type_P4(G):\n",
    "    l1 = G.nodes['e1']['l']\n",
    "    l2 = G.nodes['e2']['l']\n",
    "    l3 = G.nodes['e3']['l']\n",
    "    l4 = G.nodes['e4']['l']\n",
    "    b4 = G.nodes['e4']['b']\n",
    "    \n",
    "    return b4 && (l4>(l1+l2))&&(l4>=l3)"
   ]
  },
  {
   "cell_type": "code",
   "execution_count": 13,
   "metadata": {},
   "outputs": [],
   "source": [
    "def transform_P4(G):\n",
    "    \n",
    "    l4 = G.nodes['e4']['l']\n",
    "    b4 = G.nodes['e4']['b']\n",
    "    x1 = G.nodes['v1']['x']\n",
    "    y1 = G.nodes['v1']['y']\n",
    "    z1 = G.nodes['v1']['z']\n",
    "    x4 = G.nodes['v3']['x']\n",
    "    y4 = G.nodes['v3']['y']\n",
    "    z4 = G.nodes['v3']['z']\n",
    "    x3 = G.nodes['v2']['x']\n",
    "    y3 = G.nodes['v2']['y']\n",
    "    z3 = G.nodes['v2']['z']\n",
    "    \n",
    "    l5 = l4/2\n",
    "    b5 = b4\n",
    "    l6 = l4/2\n",
    "    b6 = b4\n",
    "    x5 = (x1+x4)/2\n",
    "    y5 = (y1+y4)/2\n",
    "    z5 = (z1+z4)/2\n",
    "    l7 = math.sqrt(math.pow(x3-x5, 2)+math.pow(y3-y5, 2)+math.pow(z3-z5, 2))\n",
    "    b7 = False\n",
    "    r2 = False\n",
    "    r3 = False\n",
    "    \n",
    "    \n",
    "    G.remove_edge('i1', 'v1')\n",
    "    G.remove_edge('i1', 'v2')\n",
    "    G.remove_edge('i1', 'v3')\n",
    "    G.remove_node('i1')\n",
    "    \n",
    "    g.add_node('v5', type='v', x=x5, y=y5, z=z5)\n",
    "    g.add_node('e5', type='e', b=b5, l=l5)\n",
    "    g.add_node('e6', type='e', b=b6, l=l6)\n",
    "    g.add_node('e7', type='e', b=b7, l=l7)\n",
    "    \n",
    "    g.add_edge('e6', 'v1')\n",
    "    g.add_edge('e6', 'v5')\n",
    "    g.add_edge('e5', 'v3')\n",
    "    g.add_edge('e5', 'v5')\n",
    "    g.add_edge('e7', 'v2')\n",
    "    g.add_edge('e7', 'v5')\n",
    "    \n",
    "    G.add_node('i2', type='i', r=r2)\n",
    "    G.add_node('i3', type='i', r=r3)\n",
    "    \n",
    "    G.add_edge('i2', 'v5')\n",
    "    G.add_edge('i2', 'v2')\n",
    "    G.add_edge('i2', 'v3')\n",
    "    \n",
    "    G.add_edge('i3', 'v5')\n",
    "    G.add_edge('i3', 'v1')\n",
    "    G.add_edge('i3', 'v2')\n",
    "    return G"
   ]
  },
  {
   "cell_type": "code",
   "execution_count": 14,
   "metadata": {},
   "outputs": [],
   "source": [
    "g = create_graph_P4(x1=1, x2=3, x3=1, x4=2, y1=2, y2=6, y3=5, y4=4, z1=3, z2=9, z3=5, z4=6, r1=True, b1=False, b2=False, \n",
    "             b3=False, b4=False, l1=4, l2=4, l3=4, l4=5)\n",
    "draw_graph(transform_P4(g))"
   ]
  },
  {
   "cell_type": "code",
   "execution_count": 15,
   "metadata": {},
   "outputs": [],
   "source": [
    "def create_graph_P5(x1, x2, x3, x4, y1, y2, y3, y4, z1, z2, z3, z4, r1, b1, b2, b3, b4, l1, l2, l3, l4):\n",
    "    \n",
    "    return G"
   ]
  },
  {
   "cell_type": "code",
   "execution_count": 16,
   "metadata": {},
   "outputs": [],
   "source": [
    "def transform_P5(G):\n",
    "    \n",
    "    return G"
   ]
  },
  {
   "cell_type": "code",
   "execution_count": null,
   "metadata": {},
   "outputs": [],
   "source": [
    "class TestP5(unittest.TestCase):\n",
    "    def test_check_type_1(self):\n",
    "        b3 = False\n",
    "        b4 = False\n",
    "        l4 = 8\n",
    "        l3 = 8\n",
    "        l1 = 1\n",
    "        l2 = 1\n",
    "        G = create_graph_P5(x1=1, x2=1, x3=1, x4=1, y1=1, y2=1, y3=1, y4=1, z1=1, z2=1, z3=1, z4=1, r1=False, b1=False, b2=False, b3=b3, b4=b4, l1=l1, l2=l2, l3=l3, l4=l4)\n",
    "        self.assertTrue(check_type_P5(G))\n",
    "    \n",
    "    def test_check_type_2(self):\n",
    "        b3 = True\n",
    "        b4 = False\n",
    "        l4 = 8\n",
    "        l3 = 8\n",
    "        l1 = 1\n",
    "        l2 = 1\n",
    "        G = create_graph_P5(x1=1, x2=1, x3=1, x4=1, y1=1, y2=1, y3=1, y4=1, z1=1, z2=1, z3=1, z4=1, r1=False, b1=False, b2=False, b3=b3, b4=b4, l1=l1, l2=l2, l3=l3, l4=l4)\n",
    "        self.assertFalse(check_type_P5(G))\n",
    "        \n",
    "    def test_check_type_3(self):\n",
    "        b3 = False\n",
    "        b4 = False\n",
    "        l4 = 7\n",
    "        l3 = 8\n",
    "        l1 = 1\n",
    "        l2 = 1\n",
    "        G = create_graph_P5(x1=1, x2=1, x3=1, x4=1, y1=1, y2=1, y3=1, y4=1, z1=1, z2=1, z3=1, z4=1, r1=False, b1=False, b2=False, b3=b3, b4=b4, l1=l1, l2=l2, l3=l3, l4=l4)\n",
    "        self.assertFalse(check_type_P5(G))\n",
    "        \n",
    "    def test_check_type_4(self):\n",
    "        b3 = False\n",
    "        b4 = False\n",
    "        l4 = 8\n",
    "        l3 = 8\n",
    "        l1 = 5\n",
    "        l2 = 5\n",
    "        G = create_graph_P5(x1=1, x2=1, x3=1, x4=1, y1=1, y2=1, y3=1, y4=1, z1=1, z2=1, z3=1, z4=1, r1=False, b1=False, b2=False, b3=b3, b4=b4, l1=l1, l2=l2, l3=l3, l4=l4)\n",
    "        self.assertFalse(check_type_P5(G))\n",
    "        \n",
    "    def test_check_type_5(self):\n",
    "        b3 = False\n",
    "        b4 = False\n",
    "        l4 = 8\n",
    "        l3 = 8\n",
    "        l1 = 5\n",
    "        l2 = 3\n",
    "        G = create_graph_P5(x1=1, x2=1, x3=1, x4=1, y1=1, y2=1, y3=1, y4=1, z1=1, z2=1, z3=1, z4=1, r1=False, b1=False, b2=False, b3=b3, b4=b4, l1=l1, l2=l2, l3=l3, l4=l4)\n",
    "        self.assertFalse(check_type_P5(G))\n",
    "        \n",
    "    def test_check_type_6(self):\n",
    "        b3 = True\n",
    "        b4 = False\n",
    "        l4 = 8\n",
    "        l3 = 8\n",
    "        l1 = 5\n",
    "        l2 = 5\n",
    "        G = create_graph_P5(x1=1, x2=1, x3=1, x4=1, y1=1, y2=1, y3=1, y4=1, z1=1, z2=1, z3=1, z4=1, r1=False, b1=False, b2=False, b3=b3, b4=b4, l1=l1, l2=l2, l3=l3, l4=l4)\n",
    "        self.assertFalse(check_type_P5(G))\n",
    "       \n",
    "    def test_calculations(self):\n",
    "        b3 = False\n",
    "        b4 = False\n",
    "        l4 = 8\n",
    "        l3 = 8\n",
    "        l1 = 1\n",
    "        l2 = 1\n",
    "        G = create_graph_P5(x1=1, x2=1, x3=1, x4=1, y1=1, y2=1, y3=1, y4=1, z1=1, z2=1, z3=1, z4=1, r1=False, b1=False, b2=False, b3=b3, b4=b4, l1=l1, l2=l2, l3=l3, l4=l4)\n",
    "        G = transform_P5(G)\n",
    "        self.assertEqual(G.nodes['e5']['b'], G.nodes['e4']['b'])\n",
    "        self.assertEqual(G.nodes['e6']['b'], G.nodes['e4']['b'])\n",
    "        self.assertEqual(G.nodes['e5']['l'], G.nodes['e4']['l']/2)\n",
    "        self.assertEqual(G.nodes['e6']['l'], G.nodes['e4']['l']/2)\n",
    "        self.assertEqual(G.nodes['v5']['x'], (G.nodes['v1']['x'] + G.nodes['v4']['x'])/2)\n",
    "        self.assertEqual(G.nodes['v5']['y'], (G.nodes['v1']['y'] + G.nodes['v4']['y'])/2)\n",
    "        self.assertEqual(G.nodes['v5']['z'], (G.nodes['v1']['z'] + G.nodes['v4']['z'])/2)\n",
    "        self.assertFalse(G.nodes['v4']['b'])\n",
    "        self.assertFalse(G.nodes['i2']['r'])\n",
    "        self.assertFalse(G.nodes['i3']['r'])\n",
    "        self.assertEqual(G.nodes['e7']['l'], math.sqrt(math.pow(G.nodes['v3']['x'] - G.nodes['v5']['x'], 2) + math.pow(G.nodes['v3']['y'] - G.nodes['v5']['y'], 2) + math.pow(G.nodes['v3']['z'] - G.nodes['v5']['z'], 2)))\n",
    "       \n",
    "unittest.main(argv=[''], verbosity=2, exit=False)"
   ]
  },
  {
   "cell_type": "code",
   "execution_count": 17,
   "metadata": {},
   "outputs": [],
   "source": [
    "def create_graph_P6(x1, x2, x3, x4, y1, y2, y3, y4, z1, z2, z3, z4, r1, b1, b2, b3, b4, l1, l2, l3, l4):\n",
    "    \n",
    "    return G"
   ]
  },
  {
   "cell_type": "code",
   "execution_count": 18,
   "metadata": {},
   "outputs": [],
   "source": [
    "def transform_P6(G):\n",
    "    \n",
    "    return G"
   ]
  },
  {
   "cell_type": "code",
   "execution_count": 19,
   "metadata": {},
   "outputs": [],
   "source": [
    "def create_graph_P7(x1, x2, x3, x4, y1, y2, y3, y4, z1, z2, z3, z4, r1, b1, b2, b3, b4, l1, l2, l3, l4):\n",
    "\n",
    "    return G"
   ]
  },
  {
   "cell_type": "code",
   "execution_count": 20,
   "metadata": {},
   "outputs": [],
   "source": [
    "def transform_P7(G):\n",
    "    \n",
    "    return G"
   ]
  },
  {
   "cell_type": "code",
   "execution_count": 21,
   "metadata": {},
   "outputs": [],
   "source": [
    "def create_graph_P8(x1, x2, x3, x4, y1, y2, y3, y4, z1, z2, z3, z4, r1, b1, b2, b3, b4, l1, l2, l3, l4):\n",
    "    \n",
    "    return G"
   ]
  },
  {
   "cell_type": "code",
   "execution_count": 22,
   "metadata": {},
   "outputs": [],
   "source": [
    "def transform_P8(G):\n",
    "    \n",
    "    return G"
   ]
  },
  {
   "cell_type": "code",
   "execution_count": 23,
   "metadata": {},
   "outputs": [],
   "source": [
    "def create_graph_P9(x1, x2, x3, x4, y1, y2, y3, y4, z1, z2, z3, z4, r1, b1, b2, b3, b4, l1, l2, l3, l4):\n",
    "    \n",
    "    return G"
   ]
  },
  {
   "cell_type": "code",
   "execution_count": 24,
   "metadata": {},
   "outputs": [],
   "source": [
    "def transform_P9(G):\n",
    "    \n",
    "    return G"
   ]
  },
  {
   "cell_type": "code",
   "execution_count": null,
   "metadata": {},
   "outputs": [],
   "source": []
  }
 ],
 "metadata": {
  "kernelspec": {
   "display_name": "Python 3",
   "language": "python",
   "name": "python3"
  },
  "language_info": {
   "codemirror_mode": {
    "name": "ipython",
    "version": 3
   },
   "file_extension": ".py",
   "mimetype": "text/x-python",
   "name": "python",
   "nbconvert_exporter": "python",
   "pygments_lexer": "ipython3",
   "version": "3.6.8"
  },
  "pycharm": {
   "stem_cell": {
    "cell_type": "raw",
    "metadata": {
     "collapsed": false
    },
    "source": []
   }
  }
 },
 "nbformat": 4,
 "nbformat_minor": 2
}
